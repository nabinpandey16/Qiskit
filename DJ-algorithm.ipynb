{
 "cells": [
  {
   "cell_type": "code",
   "execution_count": 4,
   "id": "f9db4729-2e06-466f-86a9-412c59376c4e",
   "metadata": {},
   "outputs": [],
   "source": [
    "from qiskit import*\n",
    "from qiskit.visualization import plot_bloch_multivector, visualize_transition, plot_histogram\n",
    "from qiskit import QuantumCircuit\n",
    "import numpy as np\n",
    "import matplotlib.pyplot as plt\n",
    "from qiskit_aer import Aer"
   ]
  },
  {
   "cell_type": "code",
   "execution_count": 13,
   "id": "417612a8-e28e-49e7-99f5-36b139046ef9",
   "metadata": {},
   "outputs": [
    {
     "data": {
      "image/png": "[encoded data removed]",
      "text/plain": [
       "<Figure size 161.878x200.667 with 1 Axes>"
      ]
     },
     "execution_count": 13,
     "metadata": {},
     "output_type": "execute_result"
    }
   ],
   "source": [
    " #creating a constant oracle, input has no effect on the ouput\n",
    "#Create a quantum circuit with 2 qubits. One as input and other as output \n",
    "constant_oracle =QuantumCircuit(2)\n",
    "#get a random number from 0 or 1 \n",
    "output=np.random.randint(2)\n",
    "#what ever get in input, its having no effect.\n",
    "#the output will be the random value 0 or 1\n",
    "if output== 1: \n",
    "       constant_oracle.x(1)\n",
    "#draw the circuit \n",
    "constant_oracle.draw('mpl')"
   ]
  },
  {
   "cell_type": "code",
   "execution_count": 21,
   "id": "e1018fa6-9831-4eaf-ab52-c4205023073d",
   "metadata": {},
   "outputs": [
    {
     "data": {
      "image/png": "[encoded data removed]",
      "text/plain": [
       "<Figure size 538.128x200.667 with 1 Axes>"
      ]
     },
     "execution_count": 21,
     "metadata": {},
     "output_type": "execute_result"
    }
   ],
   "source": [
    "#creating a balanced oracle,\n",
    "#perform CNOTS with first qubit input as a control and the second qubit output as the target.\n",
    "balanced_oracle =QuantumCircuit(2)\n",
    "# Place X-gate for input qubit\n",
    "balanced_oracle.x(0)\n",
    "#Use barrier as divider\n",
    "balanced_oracle.barrier()\n",
    "# Place Controlled-NOT gates\n",
    "balanced_oracle.cx(0, 1)\n",
    "#using barrier as a divider and avoid cancelling gates by the transpiler\n",
    "balanced_oracle.barrier()\n",
    "#Place X-gates \n",
    "balanced_oracle.x(0)\n",
    "# Show oracle\n",
    "balanced_oracle.draw('mpl')"
   ]
  },
  {
   "cell_type": "code",
   "execution_count": 25,
   "id": "71bdbd59-24fd-4679-af43-2aca6126596d",
   "metadata": {},
   "outputs": [
    {
     "data": {
      "image/png": "[encoded data removed]",
      "text/plain": [
       "<Figure size 287.294x284.278 with 1 Axes>"
      ]
     },
     "execution_count": 25,
     "metadata": {},
     "output_type": "execute_result"
    }
   ],
   "source": [
    "#initialise the input qubits in the state (+)\n",
    "#and the output qubit in the state (-)\n",
    "dj_circuit= QuantumCircuit(2, 1)\n",
    "#Apply H-gates\n",
    "dj_circuit.h(0)\n",
    "#Put qubit in state ->\n",
    "dj_circuit.x(1)\n",
    "dj_circuit.h(1)\n",
    "dj_circuit.draw('mpl')"
   ]
  },
  {
   "cell_type": "code",
   "execution_count": 29,
   "id": "b2bdc0e2-35a3-48ff-b66a-c94dcdbf7c11",
   "metadata": {},
   "outputs": [
    {
     "ename": "TypeError",
     "evalue": "unsupported operand type(s) for +=: 'QuantumCircuit' and 'QuantumCircuit'",
     "output_type": "error",
     "traceback": [
      "\u001b[1;31m---------------------------------------------------------------------------\u001b[0m",
      "\u001b[1;31mTypeError\u001b[0m                                 Traceback (most recent call last)",
      "Cell \u001b[1;32mIn[29], line 5\u001b[0m\n\u001b[0;32m      3\u001b[0m oracle_fn \u001b[38;5;241m=\u001b[39m balanced_oracle\n\u001b[0;32m      4\u001b[0m \u001b[38;5;66;03m#Add oracle function \u001b[39;00m\n\u001b[1;32m----> 5\u001b[0m dj_circuit \u001b[38;5;241m+\u001b[39m\u001b[38;5;241m=\u001b[39moracle_fn \n\u001b[0;32m      6\u001b[0m dj_circuit\u001b[38;5;241m.\u001b[39mdraw(\u001b[38;5;124m'\u001b[39m\u001b[38;5;124mmpl\u001b[39m\u001b[38;5;124m'\u001b[39m)\n",
      "\u001b[1;31mTypeError\u001b[0m: unsupported operand type(s) for +=: 'QuantumCircuit' and 'QuantumCircuit'"
     ]
    }
   ],
   "source": [
    "#define the oracle function to use \n",
    "#oracle_fn =constant_oracle\n",
    "oracle_fn = balanced_oracle\n",
    "#Add oracle function \n",
    "dj_circuit +=oracle_fn \n",
    "dj_circuit.draw('mpl')"
   ]
  },
  {
   "cell_type": "code",
   "execution_count": 31,
   "id": "d60e6830-3462-4bf6-91cd-00050bdc4c97",
   "metadata": {},
   "outputs": [],
   "source": [
    "#Step 5\n"
   ]
  },
  {
   "cell_type": "code",
   "execution_count": null,
   "id": "f0601e2c-7bec-4389-9355-0ea26229dc78",
   "metadata": {},
   "outputs": [],
   "source": [
    "#Step 6\n"
   ]
  }
 ],
 "metadata": {
  "kernelspec": {
   "display_name": "Python [conda env:base] *",
   "language": "python",
   "name": "conda-base-py"
  },
  "language_info": {
   "codemirror_mode": {
    "name": "ipython",
    "version": 3
   },
   "file_extension": ".py",
   "mimetype": "text/x-python",
   "name": "python",
   "nbconvert_exporter": "python",
   "pygments_lexer": "ipython3",
   "version": "3.12.7"
  }
 },
 "nbformat": 4,
 "nbformat_minor": 5
}
